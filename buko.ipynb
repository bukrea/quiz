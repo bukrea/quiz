{
 "cells": [
  {
   "cell_type": "markdown",
   "id": "62e06e08",
   "metadata": {},
   "source": [
    "<center> <h1 style=\"color:magenta\"> Numpy Compherensive Quiz</h1></center>"
   ]
  },
  {
   "cell_type": "code",
   "execution_count": 53,
   "id": "e29a4d07",
   "metadata": {},
   "outputs": [],
   "source": [
    "import numpy as np\n",
    "import matplotlib.pyplot as plt\n",
    "\n",
    "from numpy import array, ndarray"
   ]
  },
  {
   "cell_type": "markdown",
   "id": "6f95c088",
   "metadata": {},
   "source": [
    "<center> <h2 style=\"color:blue\"> Question 1 </h2></center>"
   ]
  },
  {
   "cell_type": "markdown",
   "id": "d4f70164",
   "metadata": {},
   "source": [
    "__Question:__ Aşağıda tanımlanan matrisin istenilen özelliklerini bulun."
   ]
  },
  {
   "cell_type": "markdown",
   "id": "6f2795fe",
   "metadata": {},
   "source": [
    "$$\n",
    "\\begin{bmatrix}\n",
    "7 & -88 & 11 \\\\\n",
    "-3 & 7 & 12 \\\\\n",
    "-4 & 5 & -99 \\\\\n",
    "3 & 8 & -2 \\\\\n",
    "\\end{bmatrix}$$"
   ]
  },
  {
   "cell_type": "markdown",
   "id": "5add269a",
   "metadata": {},
   "source": [
    "- Bu matrisi __numpy__ ile __tanımlayın__.\n",
    "- Bu Matris kaç boyutludur. __Satır__ ve __sütun__ sayısını bulun.\n",
    "- Bu matrisin __satır bazında__ en __küçük__ elemanlarını bulun.\n",
    "- -88 değerini 101 ile __güncelleyin__.\n",
    "- -99 değerini 0 ile __güncelleyin__.\n",
    "- Bu matirisin __2x12__ olarak yeniden boyutlandırın."
   ]
  },
  {
   "cell_type": "markdown",
   "id": "d924d9c8",
   "metadata": {},
   "source": [
    "__Answer:__"
   ]
  },
  {
   "cell_type": "code",
   "execution_count": 13,
   "id": "81d614cb",
   "metadata": {},
   "outputs": [],
   "source": [
    "smallest_elements = np.amin(array_1, axis=1)\n"
   ]
  },
  {
   "cell_type": "code",
   "execution_count": 10,
   "id": "04c6dee8",
   "metadata": {},
   "outputs": [
    {
     "data": {
      "text/plain": [
       "(4, 3)"
      ]
     },
     "execution_count": 10,
     "metadata": {},
     "output_type": "execute_result"
    }
   ],
   "source": [
    "array_1 = array([\n",
    "    [7,-88,11],\n",
    "    [-3,7,12],\n",
    "    [-4,5,-99],\n",
    "    [3,8,-2]\n",
    "])\n",
    "array_1.shape"
   ]
  },
  {
   "cell_type": "code",
   "execution_count": 14,
   "id": "c692fda2",
   "metadata": {},
   "outputs": [
    {
     "data": {
      "text/plain": [
       "array([-88,  -3, -99,  -2])"
      ]
     },
     "execution_count": 14,
     "metadata": {},
     "output_type": "execute_result"
    }
   ],
   "source": [
    "smallest_elements = np.amin(array_1, axis=1)\n",
    "smallest_elements"
   ]
  },
  {
   "cell_type": "code",
   "execution_count": 15,
   "id": "9c986f98",
   "metadata": {},
   "outputs": [
    {
     "data": {
      "text/plain": [
       "array([[  7, 101,  11],\n",
       "       [ -3,   7,  12],\n",
       "       [ -4,   5, -99],\n",
       "       [  3,   8,  -2]])"
      ]
     },
     "execution_count": 15,
     "metadata": {},
     "output_type": "execute_result"
    }
   ],
   "source": [
    "array_1[0,1]=101\n",
    "array_1"
   ]
  },
  {
   "cell_type": "code",
   "execution_count": 16,
   "id": "65caeeb2",
   "metadata": {},
   "outputs": [
    {
     "data": {
      "text/plain": [
       "array([[  7, 101,  11],\n",
       "       [ -3,   7,  12],\n",
       "       [ -4,   5,   0],\n",
       "       [  3,   8,  -2]])"
      ]
     },
     "execution_count": 16,
     "metadata": {},
     "output_type": "execute_result"
    }
   ],
   "source": [
    "array_1[2,2]=0\n",
    "array_1"
   ]
  },
  {
   "cell_type": "code",
   "execution_count": 20,
   "id": "5a09e45d",
   "metadata": {},
   "outputs": [
    {
     "data": {
      "text/plain": [
       "array([[  7, 101,  11,  -3,   7,  12],\n",
       "       [ -4,   5,   0,   3,   8,  -2]])"
      ]
     },
     "execution_count": 20,
     "metadata": {},
     "output_type": "execute_result"
    }
   ],
   "source": [
    "array_1.reshape(2,6)\n",
    "#2x12 şeklinde yeniden boyutlanmaz çünkü yeteri kadar değer yok "
   ]
  },
  {
   "cell_type": "markdown",
   "id": "239d1563",
   "metadata": {},
   "source": [
    "<center> <h2 style=\"color:blue\"> Question 2</h2></center>"
   ]
  },
  {
   "cell_type": "markdown",
   "id": "7acb87a1",
   "metadata": {},
   "source": [
    "__Question:__ İçinde bir sınıftaki öğrencilerin quiz notlarını bulunduran \"__marks.npy__\" dosyasını __import__ edip aşağıda istenen değerleri bulun."
   ]
  },
  {
   "cell_type": "markdown",
   "id": "80375a6f",
   "metadata": {},
   "source": [
    "- veri setinin içindeki __veri sayısı__\n",
    "- en __yüksek__ not\n",
    "- en __düşük__ not\n",
    "- notların __medyanı__\n",
    "- notların __açıklığı__\n",
    "- not __ortalaması__\n",
    "- notların __standart sapması__\n",
    "- notların __varyansı__"
   ]
  },
  {
   "cell_type": "markdown",
   "id": "91c890c0",
   "metadata": {},
   "source": [
    "__Not:__ Veri setini import etmek için __numpy.load()__ fonksiyonunu kullanın. (Githubdan veri setini indirip jupytere yüklemeyi unutmayın.)"
   ]
  },
  {
   "cell_type": "markdown",
   "id": "c42d4077",
   "metadata": {},
   "source": [
    "__Answer:__"
   ]
  },
  {
   "cell_type": "code",
   "execution_count": 56,
   "id": "420ac18e",
   "metadata": {},
   "outputs": [],
   "source": [
    "marks = np.load(r\"C:\\Users\\Eren\\OneDrive\\Masaüstü\\marks.npy\")"
   ]
  },
  {
   "cell_type": "code",
   "execution_count": 61,
   "id": "f88eda14",
   "metadata": {},
   "outputs": [
    {
     "data": {
      "text/plain": [
       "99"
      ]
     },
     "execution_count": 61,
     "metadata": {},
     "output_type": "execute_result"
    }
   ],
   "source": [
    "np.max(marks)"
   ]
  },
  {
   "cell_type": "code",
   "execution_count": 62,
   "id": "cd692e24",
   "metadata": {},
   "outputs": [
    {
     "data": {
      "text/plain": [
       "2"
      ]
     },
     "execution_count": 62,
     "metadata": {},
     "output_type": "execute_result"
    }
   ],
   "source": [
    "np.min(marks)"
   ]
  },
  {
   "cell_type": "code",
   "execution_count": 63,
   "id": "b4db077d",
   "metadata": {},
   "outputs": [
    {
     "data": {
      "text/plain": [
       "62.0"
      ]
     },
     "execution_count": 63,
     "metadata": {},
     "output_type": "execute_result"
    }
   ],
   "source": [
    "np.median(marks)"
   ]
  },
  {
   "cell_type": "code",
   "execution_count": 67,
   "id": "59f18ced",
   "metadata": {},
   "outputs": [
    {
     "data": {
      "text/plain": [
       "97"
      ]
     },
     "execution_count": 67,
     "metadata": {},
     "output_type": "execute_result"
    }
   ],
   "source": [
    "np.ptp(marks)"
   ]
  },
  {
   "cell_type": "code",
   "execution_count": 64,
   "id": "2dcf8a0a",
   "metadata": {},
   "outputs": [
    {
     "data": {
      "text/plain": [
       "56.0"
      ]
     },
     "execution_count": 64,
     "metadata": {},
     "output_type": "execute_result"
    }
   ],
   "source": [
    "np.mean(marks)"
   ]
  },
  {
   "cell_type": "code",
   "execution_count": 65,
   "id": "6298aded",
   "metadata": {},
   "outputs": [
    {
     "data": {
      "text/plain": [
       "28.538378096700658"
      ]
     },
     "execution_count": 65,
     "metadata": {},
     "output_type": "execute_result"
    }
   ],
   "source": [
    "np.std(marks)"
   ]
  },
  {
   "cell_type": "code",
   "execution_count": 66,
   "id": "e964442d",
   "metadata": {},
   "outputs": [
    {
     "data": {
      "text/plain": [
       "814.439024390244"
      ]
     },
     "execution_count": 66,
     "metadata": {},
     "output_type": "execute_result"
    }
   ],
   "source": [
    "np.var(marks)"
   ]
  },
  {
   "cell_type": "markdown",
   "id": "3b29e5ef",
   "metadata": {},
   "source": [
    "<center> <h2 style=\"color:blue\"> Question 3  </h2></center>"
   ]
  },
  {
   "cell_type": "markdown",
   "id": "6e79052e",
   "metadata": {},
   "source": [
    "__Question:__ Aşağıda tanım kümesi verilen fonksiyonu görselleştirin."
   ]
  },
  {
   "cell_type": "markdown",
   "id": "61f2ddb1",
   "metadata": {},
   "source": [
    "$$ x ~~ \\epsilon ~~ (0,15)$$\n",
    "\n",
    "$$ f(x) = \\frac {sin(x) \\cdot \\sqrt {x}} {x^2 + 1}  $$"
   ]
  },
  {
   "cell_type": "markdown",
   "id": "069d408f",
   "metadata": {},
   "source": [
    "__Answer:__"
   ]
  },
  {
   "cell_type": "code",
   "execution_count": 25,
   "id": "b45f8265",
   "metadata": {},
   "outputs": [],
   "source": [
    "x=np.arange(0,15)"
   ]
  },
  {
   "cell_type": "code",
   "execution_count": 27,
   "id": "c2d98d8a",
   "metadata": {},
   "outputs": [],
   "source": [
    "y = np.sin(x)*np.sqrt(x)/(x**2+1) "
   ]
  },
  {
   "cell_type": "code",
   "execution_count": 28,
   "id": "63904386",
   "metadata": {},
   "outputs": [
    {
     "data": {
      "text/plain": [
       "[<matplotlib.lines.Line2D at 0x2af96898850>]"
      ]
     },
     "execution_count": 28,
     "metadata": {},
     "output_type": "execute_result"
    },
    {
     "data": {
      "image/png": "[encoded data removed]",
      "text/plain": [
       "<Figure size 640x480 with 1 Axes>"
      ]
     },
     "metadata": {},
     "output_type": "display_data"
    }
   ],
   "source": [
    "plt.plot(y)"
   ]
  },
  {
   "cell_type": "code",
   "execution_count": null,
   "id": "7a07d91b",
   "metadata": {},
   "outputs": [],
   "source": []
  },
  {
   "cell_type": "markdown",
   "id": "7fb69221",
   "metadata": {},
   "source": [
    "<center> <h2 style=\"color:blue\"> Question 4 </h2></center>"
   ]
  },
  {
   "cell_type": "markdown",
   "id": "d9cfdde9",
   "metadata": {},
   "source": [
    "__Question:__ Aşağıdaki matrisi numpy ile tanımlayıp istenilen değerleri hesaplayın."
   ]
  },
  {
   "cell_type": "markdown",
   "id": "ebf0a54b",
   "metadata": {},
   "source": [
    "$$\n",
    "\\begin{bmatrix}\n",
    "7 & -8 & 11 \\\\\n",
    "-4 & 5 & 1 \\\\\n",
    "3 & 8 & -2 \\\\\n",
    "\\end{bmatrix}$$"
   ]
  },
  {
   "cell_type": "markdown",
   "id": "ca6f8cb9",
   "metadata": {},
   "source": [
    "- Matrisin __Determinantı__\n",
    "- Matrisin __Özdeğerleri__ (eigen values)\n",
    "- Matrisin __Tersi__ (inverse)\n",
    "- Matrisin __Condition Number'ı__\n",
    "- Matrisin __Norm'u__"
   ]
  },
  {
   "cell_type": "markdown",
   "id": "939a4ea7",
   "metadata": {},
   "source": [
    "__Answer:__"
   ]
  },
  {
   "cell_type": "code",
   "execution_count": 30,
   "id": "3448aa29",
   "metadata": {},
   "outputs": [],
   "source": [
    "array_2 = np.array([\n",
    "    [7,-8,11],\n",
    "    [-4,5,1],\n",
    "    [3,8,-2]\n",
    "])"
   ]
  },
  {
   "cell_type": "code",
   "execution_count": 31,
   "id": "189909c7",
   "metadata": {},
   "outputs": [
    {
     "data": {
      "text/plain": [
       "array([-7.81317157, 10.37284109,  7.44033048])"
      ]
     },
     "execution_count": 31,
     "metadata": {},
     "output_type": "execute_result"
    }
   ],
   "source": [
    "eigenvalues = np.linalg.eigvals(array_2)\n",
    "eigenvalues"
   ]
  },
  {
   "cell_type": "code",
   "execution_count": 33,
   "id": "0a9463b8",
   "metadata": {},
   "outputs": [
    {
     "data": {
      "text/plain": [
       "array([[ 0.02985075, -0.11940299,  0.10447761],\n",
       "       [ 0.00829187,  0.07794362,  0.08457711],\n",
       "       [ 0.07794362,  0.13266998, -0.00497512]])"
      ]
     },
     "execution_count": 33,
     "metadata": {},
     "output_type": "execute_result"
    }
   ],
   "source": [
    "inverse = np.linalg.inv(array_2)\n",
    "inverse"
   ]
  },
  {
   "cell_type": "code",
   "execution_count": 34,
   "id": "ad122446",
   "metadata": {},
   "outputs": [
    {
     "data": {
      "text/plain": [
       "3.3546326482056936"
      ]
     },
     "execution_count": 34,
     "metadata": {},
     "output_type": "execute_result"
    }
   ],
   "source": [
    "condition_number = np.linalg.cond(array_2)\n",
    "condition_number"
   ]
  },
  {
   "cell_type": "code",
   "execution_count": 35,
   "id": "84639f11",
   "metadata": {},
   "outputs": [
    {
     "data": {
      "text/plain": [
       "18.788294228055936"
      ]
     },
     "execution_count": 35,
     "metadata": {},
     "output_type": "execute_result"
    }
   ],
   "source": [
    "norm = np.linalg.norm(array_2)\n",
    "norm"
   ]
  },
  {
   "cell_type": "markdown",
   "id": "caeb04cc",
   "metadata": {},
   "source": [
    "<center> <h2 style=\"color:blue\"> Question 5</h2></center>"
   ]
  },
  {
   "cell_type": "markdown",
   "id": "6cd27362",
   "metadata": {},
   "source": [
    "__Question:__  Aşağıda verilen __A__ matrisi ile __B__ matrisini __matris çarpımı__ ile çarpın."
   ]
  },
  {
   "cell_type": "markdown",
   "id": "4418ffd1",
   "metadata": {},
   "source": [
    "$$ A = \\begin{bmatrix}\n",
    "1 & 2 \\\\\n",
    "4 & 5  \n",
    "\\end{bmatrix}  $$\n",
    "<br> <br>\n",
    "$$ B = [4 ~~ 5] $$"
   ]
  },
  {
   "cell_type": "markdown",
   "id": "03eb1c8c",
   "metadata": {},
   "source": [
    "__Answer:__"
   ]
  },
  {
   "cell_type": "code",
   "execution_count": 41,
   "id": "e8459a02",
   "metadata": {},
   "outputs": [],
   "source": [
    "matrix_a=np.array([[1,2],[4,5]])"
   ]
  },
  {
   "cell_type": "code",
   "execution_count": 44,
   "id": "b73c308d",
   "metadata": {},
   "outputs": [],
   "source": [
    "matrix_b=np.array([[4,5]])"
   ]
  },
  {
   "cell_type": "code",
   "execution_count": 47,
   "id": "b6e3bb73",
   "metadata": {},
   "outputs": [],
   "source": [
    "matrix_b = np.reshape(matrix_b, (2, 1))"
   ]
  },
  {
   "cell_type": "code",
   "execution_count": 50,
   "id": "ccf74f09",
   "metadata": {},
   "outputs": [
    {
     "data": {
      "text/plain": [
       "array([[14],\n",
       "       [41]])"
      ]
     },
     "execution_count": 50,
     "metadata": {},
     "output_type": "execute_result"
    }
   ],
   "source": [
    "m = np.matmul(matrix_a,matrix_b)\n",
    "m\n",
    "#bundan hiç ama hiç emin değilim"
   ]
  },
  {
   "cell_type": "markdown",
   "id": "f542f599",
   "metadata": {},
   "source": [
    "<center> <h2 style=\"color:blue\"> Question 6 </h2></center>"
   ]
  },
  {
   "cell_type": "markdown",
   "id": "d47d2137",
   "metadata": {},
   "source": [
    "__Question:__  Aşağıda, $  Ax=B $ formatında verilen matrisin çözüm kümesini bulunuz."
   ]
  },
  {
   "cell_type": "markdown",
   "id": "50f106f7",
   "metadata": {},
   "source": [
    "\n",
    "$$ \n",
    "\\begin{bmatrix}\n",
    "1 & 2 & 3 \\\\\n",
    "4 & 5 & 6 \\\\\n",
    "7 & 8 & 9 \\\\\n",
    "\\end{bmatrix} \\cdot x =  \n",
    "\\begin{bmatrix}\n",
    "2 \\\\\n",
    "0 \\\\\n",
    "-1 \\\\\n",
    "\\end{bmatrix} \n",
    "$$"
   ]
  },
  {
   "cell_type": "markdown",
   "id": "5ff1b23f",
   "metadata": {},
   "source": [
    "__Answer:__"
   ]
  },
  {
   "cell_type": "code",
   "execution_count": 60,
   "id": "50702aca",
   "metadata": {},
   "outputs": [],
   "source": [
    "A = ([\n",
    "    [1,2,3],\n",
    "    [4,5,6],\n",
    "    [7,8,9]\n",
    "])"
   ]
  },
  {
   "cell_type": "code",
   "execution_count": null,
   "id": "5e9d1b7b",
   "metadata": {},
   "outputs": [],
   "source": [
    "B = ([[2],[0],[-1]])"
   ]
  },
  {
   "cell_type": "code",
   "execution_count": 51,
   "id": "bd2b2a3c",
   "metadata": {},
   "outputs": [
    {
     "data": {
      "text/plain": [
       "array([[4. , 2.5],\n",
       "       [1. , 1. ]])"
      ]
     },
     "execution_count": 51,
     "metadata": {},
     "output_type": "execute_result"
    }
   ],
   "source": [
    "x = np.divide(B,A)\n",
    "x"
   ]
  },
  {
   "cell_type": "markdown",
   "id": "d90055a3",
   "metadata": {},
   "source": [
    "<center> <b> İbrahim TUNÇ</b></center>"
   ]
  }
 ],
 "metadata": {
  "kernelspec": {
   "display_name": "Python 3 (ipykernel)",
   "language": "python",
   "name": "python3"
  },
  "language_info": {
   "codemirror_mode": {
    "name": "ipython",
    "version": 3
   },
   "file_extension": ".py",
   "mimetype": "text/x-python",
   "name": "python",
   "nbconvert_exporter": "python",
   "pygments_lexer": "ipython3",
   "version": "3.11.5"
  }
 },
 "nbformat": 4,
 "nbformat_minor": 5
}
